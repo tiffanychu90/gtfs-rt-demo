{
 "cells": [
  {
   "cell_type": "markdown",
   "id": "e97ab7b7-a014-4fde-964e-6a0c0feb6902",
   "metadata": {},
   "source": [
    "## LADOT one trip - projecting distance for all vp"
   ]
  },
  {
   "cell_type": "code",
   "execution_count": null,
   "id": "4f3bb32b-d9ec-4ec1-9dd6-b6bda2f21988",
   "metadata": {
    "tags": []
   },
   "outputs": [],
   "source": [
    "import geopandas as gpd\n",
    "import pandas as pd\n",
    "\n",
    "import create_table\n",
    "import utils\n",
    "from update_vars import analysis_date, PROJECT_CRS"
   ]
  },
  {
   "cell_type": "code",
   "execution_count": null,
   "id": "fd21676a-dc37-408e-a18b-ba8ab086d9b2",
   "metadata": {
    "tags": []
   },
   "outputs": [],
   "source": [
    "one_trip = \"30-n30kvaejc\"\n",
    "\n",
    "trip_filter = [[(\"trip_id\", \"==\", one_trip)]]\n",
    "\n",
    "trips = create_table.get_table(\n",
    "    \"trips\", \n",
    "    analysis_date, \n",
    "    filters = trip_filter\n",
    ")\n",
    "\n",
    "trips"
   ]
  },
  {
   "cell_type": "markdown",
   "id": "5d4d1e82-4871-4c80-b1ad-a7aadc8f009c",
   "metadata": {},
   "source": [
    "## Look at what's in all the tables"
   ]
  },
  {
   "cell_type": "code",
   "execution_count": null,
   "id": "5c565891-feb4-43b8-a82e-88dd99cecd40",
   "metadata": {
    "tags": []
   },
   "outputs": [],
   "source": [
    "stop_times_direction = create_table.get_table(\n",
    "    \"stop_times_direction\",\n",
    "    analysis_date,\n",
    "    filters = trip_filter,\n",
    "    columns = [\"trip_id\", \"stop_sequence\", \"geometry\"]\n",
    ").to_crs(PROJECT_CRS)\n",
    "\n",
    "\n",
    "shapes = create_table.get_table(\n",
    "    \"shapes\",\n",
    "    analysis_date,\n",
    "    filters = [[(\"shape_id\", \"in\", trips.shape_id)]],\n",
    "    columns = [\"shape_id\", \"geometry\"]\n",
    ").to_crs(PROJECT_CRS)"
   ]
  },
  {
   "cell_type": "code",
   "execution_count": null,
   "id": "cc4dfb4b-37c0-4113-b229-1c380c822ad4",
   "metadata": {
    "tags": []
   },
   "outputs": [],
   "source": [
    "vp = create_table.get_table(\n",
    "    \"vp\", \n",
    "    analysis_date,\n",
    "    filters = trip_filter,\n",
    "    columns = [\n",
    "        \"trip_id\", \n",
    "        \"location_timestamp_local\", \"geometry\"\n",
    "    ]\n",
    ").to_crs(PROJECT_CRS).sort_values(\n",
    "    \"location_timestamp_local\"\n",
    ").reset_index(drop=True)\n",
    "\n",
    "vp.shape"
   ]
  },
  {
   "cell_type": "code",
   "execution_count": null,
   "id": "584f9b09-6c95-4b34-a79b-b2a86f52f5c1",
   "metadata": {
    "tags": []
   },
   "outputs": [],
   "source": [
    "vp.head()"
   ]
  },
  {
   "cell_type": "code",
   "execution_count": null,
   "id": "68b3b544-6e05-4a36-b576-2285fd46030b",
   "metadata": {
    "tags": []
   },
   "outputs": [],
   "source": [
    "m = utils.plot_vp_shape_stops(\n",
    "    vp,\n",
    "    shapes,\n",
    "    stop_times_direction,\n",
    "    vp_as_line=True\n",
    ")\n",
    "\n",
    "m"
   ]
  },
  {
   "cell_type": "code",
   "execution_count": null,
   "id": "af9b141d-0d6b-4c74-bf14-609f4b731aa5",
   "metadata": {
    "tags": []
   },
   "outputs": [],
   "source": [
    "m2 = utils.plot_vp_shape_stops(\n",
    "    vp,\n",
    "    shapes,\n",
    "    stop_times_direction,\n",
    "    vp_as_line=False\n",
    ")\n",
    "\n",
    "m2"
   ]
  },
  {
   "cell_type": "markdown",
   "id": "1d95037b-d17a-4d0a-ac2f-b6353b947e75",
   "metadata": {},
   "source": [
    "## Put stop_times, trips, stops, shapes tables together"
   ]
  },
  {
   "cell_type": "code",
   "execution_count": null,
   "id": "2772f67c-2fcd-492d-8803-bc6cccbe6926",
   "metadata": {
    "tags": []
   },
   "outputs": [],
   "source": [
    "stops_projected = create_table.stop_times_projected_table(\n",
    "    analysis_date, \n",
    "    filters = trip_filter,\n",
    ")"
   ]
  },
  {
   "cell_type": "code",
   "execution_count": null,
   "id": "1f9afa68-bc8e-47d0-9225-55d007f0f5f6",
   "metadata": {
    "tags": []
   },
   "outputs": [],
   "source": [
    "stops_projected.head()"
   ]
  },
  {
   "cell_type": "markdown",
   "id": "ae8b5b7a-c47e-4166-b345-a81af7d2c25e",
   "metadata": {},
   "source": [
    "## Put vp with shape"
   ]
  },
  {
   "cell_type": "code",
   "execution_count": null,
   "id": "58adfcce-5334-4065-b1da-3f697e4cb5fc",
   "metadata": {
    "tags": []
   },
   "outputs": [],
   "source": [
    "vp_projected = create_table.vp_projected_table(\n",
    "    analysis_date,\n",
    "    filters = trip_filter\n",
    ")   "
   ]
  },
  {
   "cell_type": "code",
   "execution_count": null,
   "id": "57456452-a709-49f8-a541-cdf2b86b5e2c",
   "metadata": {
    "tags": []
   },
   "outputs": [],
   "source": [
    "vp_projected.head()"
   ]
  },
  {
   "cell_type": "markdown",
   "id": "5a02c725-a0f3-432f-b466-dbc0d3a55123",
   "metadata": {},
   "source": [
    "## Demo: find speed between 2 stops\n",
    "\n",
    "Find the speed between stop_sequence 5 and 6."
   ]
  },
  {
   "cell_type": "code",
   "execution_count": null,
   "id": "a3d9b7a5-a44f-4538-bcc9-50545cae458b",
   "metadata": {
    "tags": []
   },
   "outputs": [],
   "source": [
    "def stops_and_vp_between_two_stops(\n",
    "    start_stop: int,\n",
    "    end_stop: int\n",
    ") -> tuple[pd.DataFrame]:\n",
    "    \"\"\"\n",
    "    \"\"\"\n",
    "    stops_projected_subset = stops_projected.loc[\n",
    "        (stops_projected.stop_sequence >= start_stop) &\n",
    "        (stops_projected.stop_sequence <= end_stop)\n",
    "    ]\n",
    "    \n",
    "    vp_projected_subset = vp_projected.loc[\n",
    "        (vp_projected.vp_meters >= stops_projected_subset.stop_meters.min()) & \n",
    "        (vp_projected.vp_meters <= stops_projected_subset.stop_meters.max())\n",
    "    ]\n",
    "\n",
    "    return stops_projected_subset, vp_projected_subset"
   ]
  },
  {
   "cell_type": "code",
   "execution_count": null,
   "id": "bd70cda3-6d6c-4bf1-b00a-6924309abd5c",
   "metadata": {},
   "outputs": [],
   "source": [
    "stops_subset, vp_subset = stops_and_vp_between_two_stops(5, 6)"
   ]
  },
  {
   "cell_type": "code",
   "execution_count": null,
   "id": "cf18af91-0bb6-4526-8327-1676320db963",
   "metadata": {
    "tags": []
   },
   "outputs": [],
   "source": [
    "vp_subset.index"
   ]
  },
  {
   "cell_type": "code",
   "execution_count": null,
   "id": "0ffe8185-66cf-499c-9832-b5d0f1485738",
   "metadata": {
    "tags": []
   },
   "outputs": [],
   "source": [
    "stops_subset"
   ]
  },
  {
   "cell_type": "code",
   "execution_count": null,
   "id": "4aac47ff-5b78-4014-a9b1-7d85d808ecb6",
   "metadata": {
    "tags": []
   },
   "outputs": [],
   "source": [
    "vp_subset"
   ]
  },
  {
   "cell_type": "code",
   "execution_count": null,
   "id": "4636d05e-95ac-4e55-be1b-4075ae145ae6",
   "metadata": {
    "tags": []
   },
   "outputs": [],
   "source": [
    "stops_subset2, vp_subset2 = stops_and_vp_between_two_stops(49, 50)\n",
    "stops_subset"
   ]
  },
  {
   "cell_type": "code",
   "execution_count": null,
   "id": "96b71f2f-7368-47c8-9eb4-b4d715d18daf",
   "metadata": {
    "tags": []
   },
   "outputs": [],
   "source": [
    "vp_subset2"
   ]
  },
  {
   "cell_type": "code",
   "execution_count": null,
   "id": "712259e7-e80c-4011-87c3-dc57aeefda97",
   "metadata": {
    "tags": []
   },
   "outputs": [],
   "source": [
    "m3 = utils.plot_vp_shape_stops(\n",
    "    vp.iloc[vp_subset.index],\n",
    "    shapes,\n",
    "    stop_times_direction[\n",
    "        (stop_times_direction.stop_sequence >= 5) & \n",
    "        (stop_times_direction.stop_sequence <= 6)],\n",
    "    vp_as_line=False\n",
    ")\n",
    "\n",
    "m3"
   ]
  },
  {
   "cell_type": "code",
   "execution_count": null,
   "id": "e9d6c6bf-7cb2-4faa-af5b-7f4f29cd56b2",
   "metadata": {
    "tags": []
   },
   "outputs": [],
   "source": [
    "m4 = utils.plot_vp_shape_stops(\n",
    "    vp.iloc[vp_subset2.index],\n",
    "    shapes,\n",
    "    stop_times_direction[\n",
    "        (stop_times_direction.stop_sequence >= 49) & \n",
    "        (stop_times_direction.stop_sequence <= 50)],\n",
    "    vp_as_line=False\n",
    ")\n",
    "\n",
    "m4"
   ]
  },
  {
   "cell_type": "markdown",
   "id": "516f75e1-1f43-4eca-9c55-91d2bb0a017f",
   "metadata": {},
   "source": [
    "## Methodology\n",
    "* Project each stop position and vehicle position onto shape\n",
    "* Use that to find distance and time elapsed\n",
    "* Speed can be calculated between stops\n",
    "\n",
    "### Real World Complexities\n",
    "* This one trip, for the most part, it's not that many vp between each stop. Are we saving much time if we filter it out anyway?\n",
    "   * It depends on the framework of what you use to define a segment.\n",
    "   * A stop-to-stop segment is fairly finite. But what if we move to corridors? Each city block?\n",
    "   * If we start combining trips across multiple operators that travel along the same street, how do we go about filtering efficiently without calculating every delta there is, and using only a fraction of those to calculate what we're interested in?\n",
    "* Ideally, the meters progressed increases monotonically, though that's not true for about 1/3 of the routes where there is loop or inlining occurring. If a bus double backs along any portion of the shape, (going one way along a major street, then back along it; exiting a plaza), then `vp_meters` can actually decrease for a bit without being incorrect.\n",
    "   * We need an additional data processing step...why `stop_times_direction` was created, we want to know what a stop's primary direction of travel is.\n",
    "   * We should add something similar to vp.\n",
    "   * If a vp isn't moving, the `vp_primary_direction=\"Unknown\"`, and actually that helps us get at dwell times too.\n",
    "   * This is not a dwell time at a stop necessarily, but how many vp observations did we capture without the bus moving (aka traffic). \n",
    "   * For a single day, for all operators with RT, this narrows down the rows from 15M to 12M (so that's a nice chunk that we can roll-up!)\n",
    "   * Nearest neighbors will help us"
   ]
  },
  {
   "cell_type": "code",
   "execution_count": null,
   "id": "d82660cd-abd4-41c0-a9e4-ac3fbb7b63b2",
   "metadata": {},
   "outputs": [],
   "source": []
  }
 ],
 "metadata": {
  "kernelspec": {
   "display_name": "Python 3 (ipykernel)",
   "language": "python",
   "name": "python3"
  },
  "language_info": {
   "codemirror_mode": {
    "name": "ipython",
    "version": 3
   },
   "file_extension": ".py",
   "mimetype": "text/x-python",
   "name": "python",
   "nbconvert_exporter": "python",
   "pygments_lexer": "ipython3",
   "version": "3.11.6"
  }
 },
 "nbformat": 4,
 "nbformat_minor": 5
}

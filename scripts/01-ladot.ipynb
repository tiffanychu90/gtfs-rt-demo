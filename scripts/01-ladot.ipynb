{
 "cells": [
  {
   "cell_type": "markdown",
   "id": "e97ab7b7-a014-4fde-964e-6a0c0feb6902",
   "metadata": {},
   "source": [
    "## LADOT one trip - projecting distance for all vp"
   ]
  },
  {
   "cell_type": "code",
   "execution_count": null,
   "id": "4f3bb32b-d9ec-4ec1-9dd6-b6bda2f21988",
   "metadata": {
    "tags": []
   },
   "outputs": [],
   "source": [
    "import branca \n",
    "import geopandas as gpd\n",
    "import numpy as np\n",
    "import pandas as pd\n",
    "\n",
    "import create_table\n",
    "import utils\n",
    "from update_vars import analysis_date, PROJECT_CRS"
   ]
  },
  {
   "cell_type": "code",
   "execution_count": null,
   "id": "c0cb0080-ac26-4c4a-8aea-81e20c47072b",
   "metadata": {
    "tags": []
   },
   "outputs": [],
   "source": [
    "trips = create_table.get_table(\n",
    "    \"trips\", \n",
    "    analysis_date, \n",
    "    filters = [[(\"name\", \"==\", \"LA DOT Schedule\")]]\n",
    ")"
   ]
  },
  {
   "cell_type": "code",
   "execution_count": null,
   "id": "ae7ae8cb-6560-4c53-9afd-8128c0383cd9",
   "metadata": {
    "tags": []
   },
   "outputs": [],
   "source": [
    "shapes = create_table.get_table(\n",
    "    \"shapes\", \n",
    "    analysis_date, \n",
    "    columns = [\"shape_array_key\", \"shape_id\", \"n_trips\", \"geometry\"],\n",
    "    filters = [[\n",
    "        (\"shape_array_key\", \"in\", trips.shape_array_key.unique().tolist())]]\n",
    ")"
   ]
  },
  {
   "cell_type": "code",
   "execution_count": null,
   "id": "4b03c3fb-333a-41a1-86dd-4f08e4b9acf1",
   "metadata": {
    "tags": []
   },
   "outputs": [],
   "source": [
    "shapes.explore(\"shape_id\", tiles=\"CartoDB Positron\")"
   ]
  },
  {
   "cell_type": "code",
   "execution_count": null,
   "id": "05579141-2eea-4f9d-9d1a-d23481c698ea",
   "metadata": {
    "tags": []
   },
   "outputs": [],
   "source": [
    "stops_projected = create_table.stop_times_projected_table(\n",
    "    analysis_date, \n",
    "    filters = [[(\"trip_id\", \"in\", trips.trip_id.unique().tolist())]],\n",
    ")"
   ]
  },
  {
   "cell_type": "code",
   "execution_count": null,
   "id": "c383d671-77c4-4c64-8411-4e2b053946a9",
   "metadata": {
    "tags": []
   },
   "outputs": [],
   "source": [
    "trip_cols = [\"schedule_gtfs_dataset_key\", \"trip_id\", \"shape_id\"]\n",
    "\n",
    "check_df = (stops_projected\n",
    "                   .sort_values(trip_cols + [\"stop_sequence\"])\n",
    "                   .groupby(trip_cols)\n",
    "                   .agg({\"stop_meters\": lambda x: list(x)})\n",
    "                   .reset_index()\n",
    "                  )\n",
    "\n",
    "check_df = check_df.assign(\n",
    "    is_monotonic = check_df.apply(lambda x: np.all(np.diff(x.stop_meters) > 0), axis=1)\n",
    ")\n",
    "\n",
    "check_df.is_monotonic.value_counts() "
   ]
  },
  {
   "cell_type": "code",
   "execution_count": null,
   "id": "3b464d35-e054-4ad8-9eeb-bd691a7af46a",
   "metadata": {
    "tags": []
   },
   "outputs": [],
   "source": [
    "loopy_shapes = check_df[check_df.is_monotonic == False].shape_id.unique()\n",
    "ok_shapes = check_df[check_df.is_monotonic == True].shape_id.unique()\n",
    "\n",
    "print(f\"# loopy shapes: {len(loopy_shapes)}, # ok shapes: {len(ok_shapes)}\")"
   ]
  },
  {
   "cell_type": "code",
   "execution_count": null,
   "id": "6cc1e2ca-91eb-4c02-b813-56ae74fa0935",
   "metadata": {
    "tags": []
   },
   "outputs": [],
   "source": [
    "shapes[shapes.shape_id.isin(loopy_shapes)].explore(\"shape_id\", tiles=\"CartoDB Positron\")"
   ]
  },
  {
   "cell_type": "code",
   "execution_count": null,
   "id": "fb7dcce5-2494-4dab-b170-1e8eed3e5e6e",
   "metadata": {
    "tags": []
   },
   "outputs": [],
   "source": [
    "shapes[shapes.shape_id.isin(ok_shapes)].explore(\"shape_id\", tiles=\"CartoDB Positron\")"
   ]
  },
  {
   "cell_type": "code",
   "execution_count": null,
   "id": "fd21676a-dc37-408e-a18b-ba8ab086d9b2",
   "metadata": {
    "tags": []
   },
   "outputs": [],
   "source": [
    "one_trip = \"30-n30kvaejc\"\n",
    "\n",
    "trip_filter = [[(\"trip_id\", \"==\", one_trip)]]\n",
    "\n",
    "trips = create_table.get_table(\n",
    "    \"trips\", \n",
    "    analysis_date, \n",
    "    filters = trip_filter\n",
    ")\n",
    "\n",
    "trips"
   ]
  },
  {
   "cell_type": "markdown",
   "id": "5d4d1e82-4871-4c80-b1ad-a7aadc8f009c",
   "metadata": {},
   "source": [
    "## Look at what's in all the tables"
   ]
  },
  {
   "cell_type": "code",
   "execution_count": null,
   "id": "5c565891-feb4-43b8-a82e-88dd99cecd40",
   "metadata": {
    "tags": []
   },
   "outputs": [],
   "source": [
    "stop_times_direction = create_table.get_table(\n",
    "    \"stop_times_direction\",\n",
    "    analysis_date,\n",
    "    filters = trip_filter,\n",
    "    columns = [\"trip_id\", \"stop_sequence\", \"geometry\"]\n",
    ").to_crs(PROJECT_CRS)\n",
    "\n",
    "\n",
    "shapes = create_table.get_table(\n",
    "    \"shapes\",\n",
    "    analysis_date,\n",
    "    filters = [[(\"shape_id\", \"in\", trips.shape_id)]],\n",
    "    columns = [\"shape_id\", \"geometry\"]\n",
    ").to_crs(PROJECT_CRS)"
   ]
  },
  {
   "cell_type": "code",
   "execution_count": null,
   "id": "cc4dfb4b-37c0-4113-b229-1c380c822ad4",
   "metadata": {
    "tags": []
   },
   "outputs": [],
   "source": [
    "vp = create_table.get_table(\n",
    "    \"vp\", \n",
    "    analysis_date,\n",
    "    filters = trip_filter,\n",
    "    columns = [\n",
    "        \"trip_id\", \n",
    "        \"location_timestamp_local\", \"geometry\"\n",
    "    ]\n",
    ").to_crs(PROJECT_CRS).sort_values(\n",
    "    \"location_timestamp_local\"\n",
    ").reset_index(drop=True)\n",
    "\n",
    "vp.shape"
   ]
  },
  {
   "cell_type": "code",
   "execution_count": null,
   "id": "584f9b09-6c95-4b34-a79b-b2a86f52f5c1",
   "metadata": {
    "tags": []
   },
   "outputs": [],
   "source": [
    "vp.head()"
   ]
  },
  {
   "cell_type": "code",
   "execution_count": null,
   "id": "68b3b544-6e05-4a36-b576-2285fd46030b",
   "metadata": {
    "tags": []
   },
   "outputs": [],
   "source": [
    "m = utils.plot_vp_shape_stops(\n",
    "    vp,\n",
    "    shapes,\n",
    "    stop_times_direction,\n",
    "    vp_as_line=True\n",
    ")\n",
    "\n",
    "m"
   ]
  },
  {
   "cell_type": "code",
   "execution_count": null,
   "id": "af9b141d-0d6b-4c74-bf14-609f4b731aa5",
   "metadata": {
    "tags": []
   },
   "outputs": [],
   "source": [
    "m2 = utils.plot_vp_shape_stops(\n",
    "    vp,\n",
    "    shapes,\n",
    "    stop_times_direction,\n",
    "    vp_as_line=False\n",
    ")\n",
    "\n",
    "m2"
   ]
  },
  {
   "cell_type": "markdown",
   "id": "1d95037b-d17a-4d0a-ac2f-b6353b947e75",
   "metadata": {},
   "source": [
    "## Put stop_times, trips, stops, shapes tables together"
   ]
  },
  {
   "cell_type": "code",
   "execution_count": null,
   "id": "2772f67c-2fcd-492d-8803-bc6cccbe6926",
   "metadata": {
    "tags": []
   },
   "outputs": [],
   "source": [
    "stops_projected = create_table.stop_times_projected_table(\n",
    "    analysis_date, \n",
    "    filters = trip_filter,\n",
    ")\n",
    "\n",
    "# We don't do this in our pipeline, because vp meters is an array\n",
    "# But this illustrates the point more clearly\n",
    "stops_projected = stops_projected.assign(\n",
    "    subseq_stop_meters = stops_projected.groupby([\"schedule_gtfs_dataset_key\", \"trip_id\"]).stop_meters.shift(-1)\n",
    ")"
   ]
  },
  {
   "cell_type": "code",
   "execution_count": null,
   "id": "1f9afa68-bc8e-47d0-9225-55d007f0f5f6",
   "metadata": {
    "tags": []
   },
   "outputs": [],
   "source": [
    "stops_projected.head()"
   ]
  },
  {
   "cell_type": "markdown",
   "id": "ae8b5b7a-c47e-4166-b345-a81af7d2c25e",
   "metadata": {},
   "source": [
    "## Put vp with shape"
   ]
  },
  {
   "cell_type": "code",
   "execution_count": null,
   "id": "58adfcce-5334-4065-b1da-3f697e4cb5fc",
   "metadata": {
    "tags": []
   },
   "outputs": [],
   "source": [
    "vp_projected = create_table.vp_projected_table(\n",
    "    analysis_date,\n",
    "    filters = trip_filter\n",
    ")   "
   ]
  },
  {
   "cell_type": "code",
   "execution_count": null,
   "id": "57456452-a709-49f8-a541-cdf2b86b5e2c",
   "metadata": {
    "tags": []
   },
   "outputs": [],
   "source": [
    "vp_projected.head()"
   ]
  },
  {
   "cell_type": "markdown",
   "id": "5a02c725-a0f3-432f-b466-dbc0d3a55123",
   "metadata": {},
   "source": [
    "## What do we need to calculate speed between stop 5 and 6?\n",
    "\n",
    "Find the speed between stop_sequence 5 and 6.\n",
    "\n",
    "* For each stop pair (here, defined by `stop_seq_pair`), we grab a subset of the vp that fall between, and calculate speed.\n",
    "* They can be thought about as groups along a number line. As the bus travels from one stop to the next, there are a grouping of vp that can be used to derive speed, on, and on, and for each trip, we want to repeat it programatically, without knowing the nuances of the start/end numbers of each group.\n",
    "* The first improvement on this is to actually capture the relevant before/after vp for each stop. Ex: if the bus is seen 10 feet before the stop and also 5 feet after the stop, presumably the bus arrives at the stop (0 feet) somewhere in between those 2 timestamps. \n",
    "   * We want to calculate an estimated RT stop arrival because that will help us compare scheduled stop times with RT stop times."
   ]
  },
  {
   "cell_type": "code",
   "execution_count": null,
   "id": "a3d9b7a5-a44f-4538-bcc9-50545cae458b",
   "metadata": {
    "tags": []
   },
   "outputs": [],
   "source": [
    "def stops_and_vp_between_two_stops(\n",
    "    stop_pair: str,\n",
    ") -> tuple[pd.DataFrame]:\n",
    "    \"\"\"\n",
    "    \"\"\"\n",
    "    stops_projected_subset = stops_projected.loc[\n",
    "        (stops_projected.stop_seq_pair == stop_pair)\n",
    "    ]\n",
    "    \n",
    "    vp_projected_subset = vp_projected.loc[\n",
    "        (vp_projected.vp_meters >= stops_projected_subset.stop_meters.min()) & \n",
    "        (vp_projected.vp_meters <= stops_projected_subset.stop_meters.max())\n",
    "    ]\n",
    "\n",
    "    return stops_projected_subset, vp_projected_subset\n",
    "\n",
    "def calculate_time_elapsed(\n",
    "    df: pd.DataFrame,\n",
    "    timestamp_col: str = \"location_timestamp_local\"\n",
    ") -> float:\n",
    "\n",
    "    seconds_elapsed = (df[timestamp_col].max() - df[timestamp_col].min()) / (np.timedelta64(1, \"s\"))\n",
    "    \n",
    "    return seconds_elapsed\n",
    "    \n",
    "    \n",
    "def calculate_meters_elapsed(\n",
    "    df: pd.DataFrame,\n",
    "    distance_col: str = \"vp_meters\"\n",
    ") -> float:\n",
    "    meters_elapsed = df[distance_col].max() - df[distance_col].min()\n",
    "\n",
    "    return meters_elapsed\n",
    "\n",
    "\n",
    "def print_speed_components(\n",
    "    df, \n",
    "    timestamp_col: str = \"location_timestamp_local\", \n",
    "    distance_col = \"vp_meters\"\n",
    "):\n",
    "    sec_elapsed = calculate_time_elapsed(df, timestamp_col)\n",
    "    meters_elapsed = calculate_meters_elapsed(df, vp_meters)\n",
    "    print(f\"seconds: {sec_elapsed}, meters: {meters_elapsed}\")\n",
    "\n",
    "    speed = utils.calculate_speed(meters_elapsed, sec_elapsed)\n",
    "    print(f\"speed for segment: {speed}\")"
   ]
  },
  {
   "cell_type": "code",
   "execution_count": null,
   "id": "bd70cda3-6d6c-4bf1-b00a-6924309abd5c",
   "metadata": {},
   "outputs": [],
   "source": [
    "stops_subset, vp_subset = stops_and_vp_between_two_stops(5, 6)"
   ]
  },
  {
   "cell_type": "code",
   "execution_count": null,
   "id": "0ffe8185-66cf-499c-9832-b5d0f1485738",
   "metadata": {
    "tags": []
   },
   "outputs": [],
   "source": [
    "stops_subset"
   ]
  },
  {
   "cell_type": "code",
   "execution_count": null,
   "id": "e9bae3fb-8e2c-435d-8638-7e0e5a42c0a6",
   "metadata": {
    "tags": []
   },
   "outputs": [],
   "source": [
    "# Same info presented\n",
    "stops_subset[stops_subset.stop_seq_pair==\"5__6\"]"
   ]
  },
  {
   "cell_type": "code",
   "execution_count": null,
   "id": "4aac47ff-5b78-4014-a9b1-7d85d808ecb6",
   "metadata": {
    "tags": []
   },
   "outputs": [],
   "source": [
    "vp_subset"
   ]
  },
  {
   "cell_type": "code",
   "execution_count": null,
   "id": "8c18d5fe-f877-4348-81b2-c4571a47602f",
   "metadata": {
    "tags": []
   },
   "outputs": [],
   "source": [
    "m3 = utils.plot_vp_shape_stops(\n",
    "    vp_projected[vp_projected.vp_idx.isin(vp_subset.vp_idx)],\n",
    "    shapes,\n",
    "    stops_projected[\n",
    "        (stops_projected.stop_seq_pair==\"5__6\")],\n",
    "    vp_as_line=False\n",
    ")\n",
    "\n",
    "m3"
   ]
  },
  {
   "cell_type": "code",
   "execution_count": null,
   "id": "77ad6e42-9f9f-4886-b0c0-0a63605c062e",
   "metadata": {
    "tags": []
   },
   "outputs": [],
   "source": [
    "print_speed_components(vp_subset)"
   ]
  },
  {
   "cell_type": "markdown",
   "id": "e0d53cd8-df3d-4d5b-88b8-4d62778072d7",
   "metadata": {},
   "source": [
    "## What do we need to calculate speed between stop 49 and 50?\n",
    "\n",
    "Find the speed between stop_sequence 49 and 50."
   ]
  },
  {
   "cell_type": "code",
   "execution_count": null,
   "id": "7abcc15a-58af-46ca-aed6-b5ce7a4c96bd",
   "metadata": {
    "tags": []
   },
   "outputs": [],
   "source": [
    "stops_subset2, vp_subset2 = stops_and_vp_between_two_stops(49, 50)\n",
    "stops_subset2"
   ]
  },
  {
   "cell_type": "code",
   "execution_count": null,
   "id": "1c2b1bd0-e4c5-4983-b904-c662fd854128",
   "metadata": {
    "tags": []
   },
   "outputs": [],
   "source": [
    "stops_subset2"
   ]
  },
  {
   "cell_type": "code",
   "execution_count": null,
   "id": "83dbd6cf-4a59-4a76-8610-e850536c8d77",
   "metadata": {
    "tags": []
   },
   "outputs": [],
   "source": [
    "m4 = utils.plot_vp_shape_stops(\n",
    "    vp_projected[vp_projected.vp_idx.isin(vp_subset2.vp_idx)], \n",
    "    shapes,\n",
    "    stops_projected[\n",
    "        (stops_projected.stop_seq_pair==\"49__50\")],\n",
    "    vp_as_line=False\n",
    ")\n",
    "\n",
    "m4"
   ]
  },
  {
   "cell_type": "code",
   "execution_count": null,
   "id": "090b423c-c727-4ba1-9190-5333cccbe10e",
   "metadata": {
    "tags": []
   },
   "outputs": [],
   "source": [
    "print_speed_components(vp_subset2)"
   ]
  },
  {
   "cell_type": "markdown",
   "id": "fc69933a-887a-4760-b548-62d02928a652",
   "metadata": {},
   "source": [
    "## Add speed\n",
    "\n",
    "Demo the method:\n",
    "* we use the same vp for each trip, so let's turn that into arrays\n",
    "* for each segment, we have a begin and end stop_meters\n",
    "* look within the array to find which vp observations we need to calculate the change in time and change in distance over\n",
    "* calculate speed\n",
    "\n",
    "Overall, we look through every vp, and calculate the speeds between stops.\n",
    "It's imperfect now, because what if there aren't rows over which to calculate our change?\n",
    "Actually, we use 2 vehicle positions, before and after a stop, and then estimate the arrival time at the stop, and then calculate that change.\n",
    "But given that this trip has about 50 stops and 200 vp, we'd basically be using 100 of those vp, some of them redundant too."
   ]
  },
  {
   "cell_type": "code",
   "execution_count": null,
   "id": "3ee6c249-34f7-4ae8-be53-2e58a8693511",
   "metadata": {
    "tags": []
   },
   "outputs": [],
   "source": [
    "vp_meters_arr = vp_projected.vp_meters.to_numpy()\n",
    "vp_time_arr = vp_projected.location_timestamp_local.to_numpy()\n",
    "\n",
    "\n",
    "speed_series = []\n",
    "\n",
    "for row in stops_projected.itertuples():\n",
    "    begin_stop_meters = getattr(row, \"stop_meters\")\n",
    "    end_stop_meters = getattr(row, \"subseq_stop_meters\")\n",
    "    \n",
    "    grab_indices = np.where(\n",
    "        (vp_meters_arr >= begin_stop_meters) & \n",
    "        (vp_meters_arr <= end_stop_meters)\n",
    "    )[0]\n",
    "    \n",
    "    if grab_indices.size > 0:\n",
    "        distance_array = vp_meters_arr[grab_indices]\n",
    "        time_array = vp_time_arr[grab_indices]\n",
    "\n",
    "        speed = utils.calculate_speed(\n",
    "            distance_array.max() - distance_array.min(), \n",
    "            (time_array.max() - time_array.min()) / np.timedelta64(1, \"s\")\n",
    "        )\n",
    "\n",
    "        speed_series.append(speed)\n",
    "    else:\n",
    "        speed_series.append(np.nan)\n"
   ]
  },
  {
   "cell_type": "code",
   "execution_count": null,
   "id": "d11eb3c0-9639-4460-b8b0-da1dea4abbbd",
   "metadata": {
    "tags": []
   },
   "outputs": [],
   "source": [
    "speed_df = stops_projected.assign(\n",
    "    speed_mph = speed_series\n",
    ")"
   ]
  },
  {
   "cell_type": "code",
   "execution_count": null,
   "id": "035509c8-c8eb-483f-8482-cd60ed00f4f7",
   "metadata": {
    "tags": []
   },
   "outputs": [],
   "source": [
    "speed_df.speed_mph.min(), speed_df.speed_mph.max()"
   ]
  },
  {
   "cell_type": "code",
   "execution_count": null,
   "id": "1046d343-3196-442e-ba82-5e2b20a495cf",
   "metadata": {
    "tags": []
   },
   "outputs": [],
   "source": [
    "ACCESS_ZERO_THIRTY_COLORSCALE = branca.colormap.step.RdBu_10.scale(vmin=0, vmax=30)\n",
    "speed_df[\n",
    "    speed_df.speed_mph.notna()\n",
    "].explore(\n",
    "    \"speed_mph\", \n",
    "    cmap=ACCESS_ZERO_THIRTY_COLORSCALE,\n",
    "    tiles = \"CartoDB Positron\"\n",
    ")"
   ]
  },
  {
   "cell_type": "markdown",
   "id": "516f75e1-1f43-4eca-9c55-91d2bb0a017f",
   "metadata": {},
   "source": [
    "## Methodology\n",
    "* Project each stop position and vehicle position onto shape\n",
    "* Use that to find distance and time elapsed\n",
    "* Speed can be calculated between stops\n",
    "\n",
    "### Real World Complexities\n",
    "* This one trip, for the most part, it's not that many vp between each stop. Are we saving much time if we filter it out anyway?\n",
    "   * It depends on the framework of what you use to define a segment.\n",
    "   * A stop-to-stop segment is fairly finite. But what if we move to corridors? Each city block?\n",
    "   * If we start combining trips across multiple operators that travel along the same street, how do we go about filtering efficiently without calculating every delta there is, and using only a fraction of those to calculate what we're interested in?\n",
    "* Ideally, the meters progressed increases monotonically, though that's not true for about 1/3 of the routes where there is loop or inlining occurring. If a bus double backs along any portion of the shape, (going one way along a major street, then back along it; exiting a plaza), then `vp_meters` can actually decrease for a bit without being incorrect.\n",
    "   * We need an additional data processing step...why `stop_times_direction` was created, we want to know what a stop's primary direction of travel is.\n",
    "   * We should add something similar to vp.\n",
    "   * If a vp isn't moving, the `vp_primary_direction=\"Unknown\"`, and actually that helps us get at dwell times too.\n",
    "   * This is not a dwell time at a stop necessarily, but how many vp observations did we capture without the bus moving (aka traffic). \n",
    "   * For a single day, for all operators with RT, this narrows down the rows from 15M to 12M (so that's a nice chunk that we can roll-up!)\n",
    "   * Nearest neighbors will help us get at this, because we can move to a more stop-agnostic framework. While transit will use stop-to-stop segments, maybe we can also ask what are speeds for transit that travel along a corridor, and use each city block as our segment.\n",
    "   * The less granular we go, the more we can quickly filter through to find the vp we're most interested in.\n",
    "   * The more granular we go, eventually we do converge at calculating all the deltas."
   ]
  },
  {
   "cell_type": "code",
   "execution_count": null,
   "id": "d82660cd-abd4-41c0-a9e4-ac3fbb7b63b2",
   "metadata": {},
   "outputs": [],
   "source": []
  }
 ],
 "metadata": {
  "kernelspec": {
   "display_name": "Python 3 (ipykernel)",
   "language": "python",
   "name": "python3"
  },
  "language_info": {
   "codemirror_mode": {
    "name": "ipython",
    "version": 3
   },
   "file_extension": ".py",
   "mimetype": "text/x-python",
   "name": "python",
   "nbconvert_exporter": "python",
   "pygments_lexer": "ipython3",
   "version": "3.11.6"
  }
 },
 "nbformat": 4,
 "nbformat_minor": 5
}

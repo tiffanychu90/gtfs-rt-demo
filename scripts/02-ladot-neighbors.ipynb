{
 "cells": [
  {
   "cell_type": "code",
   "execution_count": null,
   "id": "f7db4929-ac59-40b0-8ed9-f2e5d331131a",
   "metadata": {
    "tags": []
   },
   "outputs": [],
   "source": [
    "import branca \n",
    "import folium\n",
    "import geopandas as gpd\n",
    "import numpy as np\n",
    "import pandas as pd\n",
    "\n",
    "import create_table\n",
    "import neighbor\n",
    "import utils\n",
    "from update_vars import analysis_date, PROJECT_CRS, PARTRIDGE_FOLDER"
   ]
  },
  {
   "cell_type": "code",
   "execution_count": null,
   "id": "2e30bf36-e3fb-4365-8c36-be03c840964a",
   "metadata": {
    "tags": []
   },
   "outputs": [],
   "source": [
    "one_trip = \"30-046wc7nmq\"\n",
    "trip_filter = [[(\"trip_id\", \"==\", one_trip)]]\n",
    "\n",
    "trips = create_table.get_table(\n",
    "    \"trips\", \n",
    "    analysis_date, \n",
    "    filters = trip_filter\n",
    ")\n",
    "\n",
    "trips.head(2)"
   ]
  },
  {
   "cell_type": "code",
   "execution_count": null,
   "id": "0b639e48-2b6e-4110-9f11-f8225f4fc9a0",
   "metadata": {
    "tags": []
   },
   "outputs": [],
   "source": [
    "shapes = create_table.get_table(\n",
    "    \"shapes\", \n",
    "    analysis_date, \n",
    "    filters = [[(\"shape_id\", \"in\", trips.shape_id)]],\n",
    "    columns = [\"shape_id\", \"geometry\"]\n",
    ").to_crs(PROJECT_CRS)\n",
    "\n",
    "shapes.head(2)"
   ]
  },
  {
   "cell_type": "code",
   "execution_count": null,
   "id": "1240b3a6-acc7-4b01-877e-9380fe547a91",
   "metadata": {
    "tags": []
   },
   "outputs": [],
   "source": [
    "trip_cols = [\"schedule_gtfs_dataset_key\", \"trip_id\"]\n",
    "\n",
    "stops_projected = create_table.stop_times_projected_table(\n",
    "    analysis_date, \n",
    "    filters = trip_filter,\n",
    ")\n",
    "\n",
    "\n",
    "# We don't do this in our pipeline, because vp meters is an array\n",
    "# But this illustrates the point more clearly\n",
    "stops_projected = stops_projected.assign(\n",
    "    subseq_stop_meters = stops_projected.groupby(trip_cols).stop_meters.shift(-1)\n",
    ").rename(columns = {\"stop_id\": \"stop_id1\"})"
   ]
  },
  {
   "cell_type": "code",
   "execution_count": null,
   "id": "be4e9ce1-a692-48b4-b3d0-ed65002dd40d",
   "metadata": {
    "tags": []
   },
   "outputs": [],
   "source": [
    "stops_condensed = utils.condense_by_trip(\n",
    "    stops_projected, \n",
    "    group_cols = [\"schedule_gtfs_dataset_key\", \"trip_id\"],\n",
    "    sort_cols = [\"schedule_gtfs_dataset_key\", \"trip_id\", \"stop_sequence\"],\n",
    "    geometry_col = \"geometry\",\n",
    "    array_cols = [\"stop_sequence\"]\n",
    ")\n",
    "\n",
    "current_stop_geom = np.array(stops_condensed.geometry.iloc[0].coords)\n",
    "next_stop_geom = current_stop_geom[1:]\n",
    "# distance_east, distance_north\n",
    "direction_arr = np.asarray(\n",
    "    # first value is unknown because there is no prior stop to compare to\n",
    "    [\"Unknown\"] + \n",
    "    [utils.cardinal_definition_rules(pt[0] - prior_pt[0], pt[1] - prior_pt[1]) \n",
    "     for pt, prior_pt\n",
    "     in zip(next_stop_geom, current_stop_geom)]\n",
    ")\n",
    "\n",
    "stops_projected[\"stop_primary_direction\"] = direction_arr\n",
    "stops_projected[\"stop_opposite_direction\"] = stops_projected.stop_primary_direction.map(\n",
    "    neighbor.OPPOSITE_DIRECTIONS)"
   ]
  },
  {
   "cell_type": "code",
   "execution_count": null,
   "id": "d8f41d69-5039-492e-9879-0a5a0a238c48",
   "metadata": {
    "tags": []
   },
   "outputs": [],
   "source": [
    "vp_projected = create_table.vp_projected_table(\n",
    "    analysis_date,\n",
    "    filters = trip_filter\n",
    ")   "
   ]
  },
  {
   "cell_type": "code",
   "execution_count": null,
   "id": "c68e5919-0958-40ba-a461-987f61c6e13e",
   "metadata": {
    "tags": []
   },
   "outputs": [],
   "source": [
    "stops_vp_map = stops_projected.explore(\n",
    "    \"stop_sequence\",\n",
    "    categorical=True, legend=False,\n",
    "    tiles = \"CartoDB Positron\",\n",
    "    name = \"stops\"\n",
    ")\n",
    "\n",
    "vp_projected[[\"vp_idx\", \"geometry\"]].explore(\n",
    "    \"vp_idx\",\n",
    "    m=stops_vp_map, categorical=False,\n",
    "    name=\"vp\"\n",
    ")\n",
    "\n",
    "folium.LayerControl().add_to(stops_vp_map)\n",
    "stops_vp_map"
   ]
  },
  {
   "cell_type": "code",
   "execution_count": null,
   "id": "32ba00b4-d298-4b1a-88de-8983ea9db40c",
   "metadata": {
    "tags": []
   },
   "outputs": [],
   "source": [
    "vp_nn = utils.condense_by_trip(\n",
    "    vp_projected,\n",
    "    group_cols = [\"schedule_gtfs_dataset_key\", \"trip_id\"],\n",
    "    sort_cols = [\"schedule_gtfs_dataset_key\", \"trip_id\", \"vp_idx\"],\n",
    "    geometry_col = \"geometry\",\n",
    "    array_cols = [\"vp_idx\", \"location_timestamp_local\"]\n",
    ")\n",
    "\n",
    "\n",
    "current_stop_geom = np.array(vp_nn.geometry.iloc[0].coords)\n",
    "next_stop_geom = current_stop_geom[1:]\n",
    "# distance_east, distance_north\n",
    "direction_arr = np.asarray(\n",
    "    # first value is unknown because there is no prior stop to compare to\n",
    "    [\"Unknown\"] + \n",
    "    [utils.cardinal_definition_rules(pt[0] - prior_pt[0], pt[1] - prior_pt[1]) \n",
    "     for pt, prior_pt\n",
    "     in zip(next_stop_geom, current_stop_geom)]\n",
    ")\n",
    "vp_nn[\"vp_primary_direction\"] = [direction_arr]\n",
    "\n",
    "#vp_projected[\"vp_primary_direction\"] = direction_arr"
   ]
  },
  {
   "cell_type": "code",
   "execution_count": null,
   "id": "7ef7436c-04fb-469a-9fec-c02f3bb57bfb",
   "metadata": {
    "tags": []
   },
   "outputs": [],
   "source": [
    "gdf = pd.merge(\n",
    "    stops_projected.rename(columns = {\"geometry\": \"stop_geometry\"}),\n",
    "    vp_nn.rename(columns = {\"geometry\": \"vp_geometry\"}),\n",
    "    on = [\"schedule_gtfs_dataset_key\", \"trip_id\"],\n",
    "    how = \"inner\"\n",
    ").merge(\n",
    "    shapes.rename(columns = {\"geometry\": \"shape_geometry\"}),\n",
    "    on = \"shape_id\",\n",
    "    how = \"inner\"\n",
    ")\n",
    "\n",
    "# https://datascientyst.com/combine-multiple-columns-into-single-one-in-pandas/\n",
    "# Need a single column for trip across operators\n",
    "gdf = gdf.assign(\n",
    "    trip_instance_key = gdf[trip_cols].astype(str).T.agg(\"__\".join)\n",
    ")"
   ]
  },
  {
   "cell_type": "code",
   "execution_count": null,
   "id": "b546d123-43f5-4c97-ab13-936f888163a3",
   "metadata": {
    "tags": []
   },
   "outputs": [],
   "source": [
    "vp_nn[[\"trip_id\", \"geometry\"]].explore(\"trip_id\", tiles = \"CartoDB Positron\")"
   ]
  },
  {
   "cell_type": "code",
   "execution_count": null,
   "id": "0af9e0a0-40df-4a02-acf4-c7beeb95fc49",
   "metadata": {},
   "outputs": [],
   "source": [
    "vp_before, vp_after, vp_before_meters, vp_after_meters = np.vectorize(\n",
    "    neighbor.two_nearest_neighbor_near_stop\n",
    ")(\n",
    "    gdf.vp_primary_direction, \n",
    "    gdf.vp_geometry, \n",
    "    gdf.vp_idx,\n",
    "    gdf.stop_geometry,\n",
    "    gdf.stop_opposite_direction,\n",
    "    gdf.shape_geometry,\n",
    "    gdf.stop_meters\n",
    ")"
   ]
  },
  {
   "cell_type": "code",
   "execution_count": null,
   "id": "e9cd9241-9278-48bd-8255-b684be4c763f",
   "metadata": {
    "tags": []
   },
   "outputs": [],
   "source": [
    "gdf = gdf.assign(\n",
    "    prior_vp_idx = vp_before,\n",
    "    subseq_vp_idx = vp_after,\n",
    "    prior_vp_meters = vp_before_meters, \n",
    "    subseq_vp_meters = vp_after_meters\n",
    ")"
   ]
  },
  {
   "cell_type": "code",
   "execution_count": null,
   "id": "a3ff6c21-e863-4951-8a23-e23e335452e2",
   "metadata": {
    "tags": []
   },
   "outputs": [],
   "source": [
    "start_time_series = []\n",
    "end_time_series = []\n",
    "\n",
    "for row in gdf.itertuples():\n",
    "    start_time, end_time = neighbor.grab_vp_timestamp(\n",
    "        getattr(row, \"prior_vp_idx\"),\n",
    "        getattr(row, \"subseq_vp_idx\"),\n",
    "        getattr(row, \"vp_idx\"),\n",
    "        getattr(row, \"location_timestamp_local\"),\n",
    "    )\n",
    "    \n",
    "    start_time_series.append(start_time)\n",
    "    end_time_series.append(end_time)"
   ]
  },
  {
   "cell_type": "code",
   "execution_count": null,
   "id": "ee58356e-bfd9-48f6-b036-655a101bd859",
   "metadata": {
    "tags": []
   },
   "outputs": [],
   "source": [
    "gdf = gdf.assign(\n",
    "    start_local_timestamp = start_time_series,\n",
    "    end_local_timestamp = end_time_series\n",
    ")"
   ]
  },
  {
   "cell_type": "code",
   "execution_count": null,
   "id": "60348f7d-fd49-4013-95ad-ee373e9c1e2e",
   "metadata": {
    "tags": []
   },
   "outputs": [],
   "source": [
    "test_gdf = gdf[(gdf.prior_vp_idx != -1) & (gdf.subseq_vp_idx != -1)]"
   ]
  },
  {
   "cell_type": "code",
   "execution_count": null,
   "id": "154c5cc3-8267-4705-b7f4-2579aad81367",
   "metadata": {
    "tags": []
   },
   "outputs": [],
   "source": [
    "interpolated_arrival_series = []\n",
    "\n",
    "for row in test_gdf.itertuples():\n",
    "\n",
    "    arrival_time = neighbor.interpolate_stop_arrival_time(\n",
    "        getattr(row, \"stop_meters\"),\n",
    "        [getattr(row, \"prior_vp_meters\"), getattr(row, \"subseq_vp_meters\")],\n",
    "        [getattr(row, \"start_local_timestamp\"), getattr(row, \"end_local_timestamp\")]\n",
    "    )\n",
    "    \n",
    "    interpolated_arrival_series.append(arrival_time)"
   ]
  },
  {
   "cell_type": "code",
   "execution_count": null,
   "id": "e193aa7a-e4b0-4563-abde-2aad59333f7b",
   "metadata": {
    "tags": []
   },
   "outputs": [],
   "source": [
    "test_gdf[\"arrival_time\"] = interpolated_arrival_series"
   ]
  },
  {
   "cell_type": "code",
   "execution_count": null,
   "id": "b98996d7-472e-465e-bccc-615977954061",
   "metadata": {
    "tags": []
   },
   "outputs": [],
   "source": [
    "test_gdf[[\"prior_vp_meters\", \"stop_meters\", \"subseq_vp_meters\", \n",
    "          \"start_local_timestamp\", \"arrival_time\", \"end_local_timestamp\"]].head()"
   ]
  },
  {
   "cell_type": "code",
   "execution_count": null,
   "id": "70b69fd3-4964-4370-ad04-4163795e2031",
   "metadata": {
    "tags": []
   },
   "outputs": [],
   "source": [
    "trip_stop_cols = [\n",
    "    \"trip_instance_key\",\n",
    "    \"stop_sequence\",\n",
    "    \"stop_meters\"\n",
    "]\n",
    "\n",
    "arrival_times_df = test_gdf[trip_stop_cols + [\"arrival_time\"]] "
   ]
  },
  {
   "cell_type": "code",
   "execution_count": null,
   "id": "cec214db-9174-4bc0-a2ec-57c4e1bbb1a4",
   "metadata": {
    "tags": []
   },
   "outputs": [],
   "source": [
    "gdf2 = pd.merge(\n",
    "    gdf,\n",
    "    arrival_times_df,\n",
    "    on = trip_stop_cols,\n",
    "    how = \"left\"\n",
    ")"
   ]
  },
  {
   "cell_type": "code",
   "execution_count": null,
   "id": "358741d5-12f7-4531-a9d8-98979528a758",
   "metadata": {
    "tags": []
   },
   "outputs": [],
   "source": [
    "drop_cols = [\n",
    "    \"stop_opposite_direction\",\n",
    "    \"vp_geometry\", \"vp_idx\",\n",
    "    'location_timestamp_local', 'vp_primary_direction', \n",
    "    'shape_geometry',\n",
    "    'prior_vp_idx', 'subseq_vp_idx', \n",
    "    'prior_vp_meters', 'subseq_vp_meters', \n",
    "    'start_local_timestamp', 'end_local_timestamp'\n",
    "]"
   ]
  },
  {
   "cell_type": "code",
   "execution_count": null,
   "id": "d259c549-1c54-4a40-8eda-9df68a9d8e17",
   "metadata": {
    "tags": []
   },
   "outputs": [],
   "source": [
    "gdf3 = neighbor.enforce_monotonicity_and_interpolate_across_stops(\n",
    "    gdf2, trip_stop_cols).drop(columns = drop_cols)"
   ]
  },
  {
   "cell_type": "code",
   "execution_count": null,
   "id": "43602a13-1dfa-4253-8d8e-6e8b8b1e77b0",
   "metadata": {
    "tags": []
   },
   "outputs": [],
   "source": [
    "gdf4 = neighbor.calculate_speed_from_stop_arrivals(\n",
    "    gdf3,\n",
    "    trip_cols = [\"trip_instance_key\"],\n",
    "    trip_stop_cols = [\"trip_instance_key\", \"stop_sequence\"]\n",
    ")"
   ]
  },
  {
   "cell_type": "code",
   "execution_count": null,
   "id": "d411ae86-8dc3-4e8d-bdad-3afe813b1533",
   "metadata": {},
   "outputs": [],
   "source": [
    "gdf4.shape"
   ]
  },
  {
   "cell_type": "code",
   "execution_count": null,
   "id": "ac0061ac-a7a1-433a-9004-7857a3a6d3a5",
   "metadata": {
    "tags": []
   },
   "outputs": [],
   "source": [
    "gdf4[(gdf4.speed_mph.notna()) & \n",
    "     (gdf4.speed_mph < np.inf)].shape"
   ]
  },
  {
   "cell_type": "code",
   "execution_count": null,
   "id": "636600ad-397e-4ecd-88d0-a451b34c8835",
   "metadata": {
    "tags": []
   },
   "outputs": [],
   "source": [
    "gdf4.dtypes"
   ]
  },
  {
   "cell_type": "code",
   "execution_count": null,
   "id": "66cedb3b-e749-4095-ae50-fe94d0778553",
   "metadata": {
    "tags": []
   },
   "outputs": [],
   "source": [
    "segments = gpd.read_parquet(\n",
    "    f\"{PARTRIDGE_FOLDER}stops_to_segments.parquet\",\n",
    "    filters = trip_filter\n",
    ")"
   ]
  },
  {
   "cell_type": "code",
   "execution_count": null,
   "id": "bc32f78d-17ed-46c6-9174-92c6d7a0e059",
   "metadata": {
    "tags": []
   },
   "outputs": [],
   "source": [
    "speed_gdf = pd.merge(\n",
    "    segments,\n",
    "    gdf4,\n",
    "    on = [\"trip_id\", \"stop_id1\", \"stop_id2\"]\n",
    ")\n",
    "\n",
    "speed_valid = speed_gdf[(speed_gdf.sec_elapsed > 0)]"
   ]
  },
  {
   "cell_type": "code",
   "execution_count": null,
   "id": "e79faa1f-6575-4a9e-bcc9-1e52afa608ab",
   "metadata": {
    "tags": []
   },
   "outputs": [],
   "source": [
    "COLORSCALE = branca.colormap.step.RdBu_10.scale(vmin=0, vmax=30)\n",
    "\n",
    "speed_valid.drop(columns = \"arrival_time\").explore(\n",
    "    \"speed_mph\", cmap=COLORSCALE,\n",
    "    tiles = \"CartoDB Positron\"\n",
    ")"
   ]
  },
  {
   "cell_type": "code",
   "execution_count": null,
   "id": "6cc9b52e-6243-4a6c-8d77-1b70870513b6",
   "metadata": {},
   "outputs": [],
   "source": []
  },
  {
   "cell_type": "code",
   "execution_count": null,
   "id": "e96641e3-3d2a-4f5f-a5aa-eb065c24e5dc",
   "metadata": {},
   "outputs": [],
   "source": []
  }
 ],
 "metadata": {
  "kernelspec": {
   "display_name": "Python 3 (ipykernel)",
   "language": "python",
   "name": "python3"
  },
  "language_info": {
   "codemirror_mode": {
    "name": "ipython",
    "version": 3
   },
   "file_extension": ".py",
   "mimetype": "text/x-python",
   "name": "python",
   "nbconvert_exporter": "python",
   "pygments_lexer": "ipython3",
   "version": "3.11.6"
  }
 },
 "nbformat": 4,
 "nbformat_minor": 5
}
